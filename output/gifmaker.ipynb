{
 "cells": [
  {
   "cell_type": "code",
   "execution_count": 12,
   "metadata": {
    "ExecuteTime": {
     "end_time": "2020-03-27T19:10:57.065347Z",
     "start_time": "2020-03-27T19:10:57.060354Z"
    }
   },
   "outputs": [],
   "source": [
    "import glob\n",
    "import moviepy.editor as mpy\n",
    "import time"
   ]
  },
  {
   "cell_type": "code",
   "execution_count": 17,
   "metadata": {
    "ExecuteTime": {
     "end_time": "2020-03-27T19:22:35.514780Z",
     "start_time": "2020-03-27T19:21:40.805813Z"
    }
   },
   "outputs": [
    {
     "name": "stdout",
     "output_type": "stream",
     "text": [
      "MoviePy - Building file outputName-1585336911.1266232.gif with imageio.\n"
     ]
    },
    {
     "name": "stderr",
     "output_type": "stream",
     "text": [
      "                                                                                                                       \r"
     ]
    }
   ],
   "source": [
    "gif_name = 'outputName'\n",
    "fps = 60\n",
    "file_list = glob.glob('*.png') # Get all the pngs in the current directory\n",
    "list.sort(file_list, key=lambda x: int(x.split('.png')[0])) # Sort the images by #, this may need to be tweaked for your use case\n",
    "clip = mpy.ImageSequenceClip(file_list, fps=fps)\n",
    "clip.write_gif('{}-{}.gif'.format(gif_name, time.time()), fps=fps, )"
   ]
  },
  {
   "cell_type": "code",
   "execution_count": null,
   "metadata": {},
   "outputs": [],
   "source": []
  }
 ],
 "metadata": {
  "kernelspec": {
   "display_name": "Python 3",
   "language": "python",
   "name": "python3"
  },
  "language_info": {
   "codemirror_mode": {
    "name": "ipython",
    "version": 3
   },
   "file_extension": ".py",
   "mimetype": "text/x-python",
   "name": "python",
   "nbconvert_exporter": "python",
   "pygments_lexer": "ipython3",
   "version": "3.7.0"
  }
 },
 "nbformat": 4,
 "nbformat_minor": 2
}

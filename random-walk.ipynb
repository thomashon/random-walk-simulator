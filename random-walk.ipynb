{
 "cells": [
  {
   "cell_type": "markdown",
   "metadata": {},
   "source": [
    "# Random Walk Simulator"
   ]
  },
  {
   "cell_type": "code",
   "execution_count": 13,
   "metadata": {
    "ExecuteTime": {
     "end_time": "2020-07-08T12:36:23.495644Z",
     "start_time": "2020-07-08T12:36:23.488630Z"
    }
   },
   "outputs": [],
   "source": [
    "import warnings\n",
    "warnings.simplefilter(action='ignore', category=FutureWarning)\n",
    "\n",
    "import numpy as np\n",
    "from IPython.display import clear_output\n",
    "import time\n",
    "import matplotlib.pyplot as plt\n",
    "import seaborn as sns"
   ]
  },
  {
   "cell_type": "markdown",
   "metadata": {},
   "source": [
    "## Choose Grid Size and Color"
   ]
  },
  {
   "cell_type": "code",
   "execution_count": 3,
   "metadata": {
    "ExecuteTime": {
     "end_time": "2020-07-08T12:32:24.987320Z",
     "start_time": "2020-07-08T12:32:24.982319Z"
    }
   },
   "outputs": [],
   "source": [
    "grid_size = 11\n",
    "color = 'Blues' # Oranges, Blues, Greens, Reds, binary_r (black & white)"
   ]
  },
  {
   "cell_type": "markdown",
   "metadata": {},
   "source": [
    "## Calculation and Visualization"
   ]
  },
  {
   "cell_type": "code",
   "execution_count": 46,
   "metadata": {
    "ExecuteTime": {
     "end_time": "2020-07-08T12:55:56.043418Z",
     "start_time": "2020-07-08T12:55:56.023413Z"
    }
   },
   "outputs": [],
   "source": [
    "empty = np.array([[0] * grid_size] * grid_size)\n",
    "empty = empty.reshape(grid_size, grid_size)\n",
    "\n",
    "i, j = grid_size // 2, grid_size // 2\n",
    "empty[i][j] = 1\n",
    "x = 0\n",
    "\n",
    "while True:\n",
    "\n",
    "    direction = np.random.choice(['n', 'e', 's', 'w', 'ne', 'se', 'sw', 'nw'])\n",
    "\n",
    "    if direction == 'n':\n",
    "        i -= 1\n",
    "\n",
    "    elif direction == 'e':\n",
    "        j += 1\n",
    "\n",
    "    elif direction == 's':\n",
    "        i += 1\n",
    "\n",
    "    elif direction == 'w':\n",
    "        j -= 1\n",
    "\n",
    "\n",
    "    elif direction == 'ne':\n",
    "        i -= 1\n",
    "        j += 1\n",
    "\n",
    "    elif direction == 'se':\n",
    "        i += 1\n",
    "        j += 1\n",
    "\n",
    "    elif direction == 'sw':\n",
    "        i += 1\n",
    "        j -= 1\n",
    "\n",
    "    elif direction == 'nw':\n",
    "        i -= 1\n",
    "        j -= 1\n",
    "\n",
    "\n",
    "    # border constraint  \n",
    "    if (i < 0) or (i > (grid_size-1)) or (j < 0) or (j > (grid_size-1)):\n",
    "        break\n",
    "    else:\n",
    "        empty[i][j] += 1\n",
    "        x += 1\n",
    "        \n",
    "##     uncomment to export single images\n",
    "#     ax = sns.heatmap(empty, square=True, cmap=color, cbar=False, xticklabels=False, yticklabels=False, vmin=0)\n",
    "#     sns_plot = ax.get_figure()\n",
    "#     sns_plot.savefig('output/' + str(x) + \".png\")\n",
    "#     clear_output(wait=False)\n",
    "\n",
    "\n",
    "steps = sum(sum(empty))\n",
    "rate = np.round((steps / grid_size), 2)\n",
    "log_rate = np.round((np.log(steps) / np.log(grid_size)), 2)"
   ]
  },
  {
   "cell_type": "markdown",
   "metadata": {},
   "source": [
    "## Visualization"
   ]
  },
  {
   "cell_type": "code",
   "execution_count": 43,
   "metadata": {
    "ExecuteTime": {
     "end_time": "2020-07-08T12:49:28.049283Z",
     "start_time": "2020-07-08T12:49:27.888293Z"
    }
   },
   "outputs": [
    {
     "data": {
      "image/png": "[encoded data removed]",
      "text/plain": [
       "<Figure size 504x504 with 1 Axes>"
      ]
     },
     "metadata": {},
     "output_type": "display_data"
    }
   ],
   "source": [
    "text = (\n",
    "    'size:' +' '+ str(grid_size) +'x'+ str(grid_size) +' '+\n",
    "    '| steps:' +' '+ str(sum(sum(empty))) +' '+\n",
    "    '| ratio:' +' '+ str(rate) +' '+\n",
    "    '| log ratio:' +' '+ str(log_rate)\n",
    ")\n",
    "\n",
    "fig, ax = plt.subplots(figsize=(7,7))\n",
    "ax = sns.heatmap(empty, square=True, cmap=color, cbar=False, xticklabels=False, yticklabels=False, robust=False)\n",
    "\n",
    "ax.annotate(\n",
    "    text, xy=(0,1), xycoords=\"axes fraction\",\n",
    "    xytext=(5,-5), textcoords=\"offset points\",\n",
    "    ha=\"left\", va=\"top\"\n",
    ")\n",
    "\n",
    "plt.show()"
   ]
  },
  {
   "cell_type": "markdown",
   "metadata": {},
   "source": [
    "## Export"
   ]
  },
  {
   "cell_type": "code",
   "execution_count": 18,
   "metadata": {
    "ExecuteTime": {
     "end_time": "2020-07-08T12:39:49.878684Z",
     "start_time": "2020-07-08T12:39:49.158561Z"
    }
   },
   "outputs": [],
   "source": [
    "sns_plot = ax.get_figure()\n",
    "sns_plot.savefig(str(grid_size) +'x'+ str(grid_size) +'-'+str(time.time()) + \".png\", dpi=300)"
   ]
  },
  {
   "cell_type": "markdown",
   "metadata": {
    "ExecuteTime": {
     "end_time": "2020-03-28T12:51:58.034055Z",
     "start_time": "2020-03-28T12:51:55.971063Z"
    }
   },
   "source": [
    "## Using numba to enhance calculation time"
   ]
  },
  {
   "cell_type": "code",
   "execution_count": 31,
   "metadata": {
    "ExecuteTime": {
     "end_time": "2020-07-08T12:46:27.081267Z",
     "start_time": "2020-07-08T12:46:27.063253Z"
    }
   },
   "outputs": [],
   "source": [
    "def calc(grid_size):\n",
    "    empty = np.array([[0] * grid_size] * grid_size)\n",
    "    empty = empty.reshape(grid_size, grid_size)\n",
    "\n",
    "    i, j = grid_size // 2, grid_size // 2\n",
    "    empty[i][j] = 1\n",
    "    x = 0\n",
    "\n",
    "    while True:\n",
    "\n",
    "        direction = np.random.choice(['n', 'e', 's', 'w', 'ne', 'se', 'sw', 'nw'])\n",
    "\n",
    "        if direction == 'n':\n",
    "            i -= 1\n",
    "\n",
    "        elif direction == 'e':\n",
    "            j += 1\n",
    "\n",
    "        elif direction == 's':\n",
    "            i += 1\n",
    "\n",
    "        elif direction == 'w':\n",
    "            j -= 1\n",
    "\n",
    "\n",
    "        elif direction == 'ne':\n",
    "            i -= 1\n",
    "            j += 1\n",
    "\n",
    "        elif direction == 'se':\n",
    "            i += 1\n",
    "            j += 1\n",
    "\n",
    "        elif direction == 'sw':\n",
    "            i += 1\n",
    "            j -= 1\n",
    "\n",
    "        elif direction == 'nw':\n",
    "            i -= 1\n",
    "            j -= 1\n",
    "\n",
    "\n",
    "        # border constraint  \n",
    "        if (i < 0) or (i > (grid_size-1)) or (j < 0) or (j > (grid_size-1)):\n",
    "            break\n",
    "        else:\n",
    "            empty[i][j] += 1\n",
    "            x += 1\n",
    "\n",
    "\n",
    "    return empty"
   ]
  },
  {
   "cell_type": "code",
   "execution_count": 8,
   "metadata": {
    "ExecuteTime": {
     "end_time": "2020-07-08T12:34:15.244109Z",
     "start_time": "2020-07-08T12:34:14.991002Z"
    }
   },
   "outputs": [],
   "source": [
    "import numba\n",
    "\n",
    "test_jit = numba.jit(calc)"
   ]
  },
  {
   "cell_type": "code",
   "execution_count": 11,
   "metadata": {
    "ExecuteTime": {
     "end_time": "2020-07-08T12:34:51.812160Z",
     "start_time": "2020-07-08T12:34:43.322063Z"
    }
   },
   "outputs": [
    {
     "name": "stdout",
     "output_type": "stream",
     "text": [
      "The slowest run took 5.60 times longer than the fastest. This could mean that an intermediate result is being cached.\n",
      "1.1 s ± 699 ms per loop (mean ± std. dev. of 7 runs, 1 loop each)\n"
     ]
    }
   ],
   "source": [
    "%timeit calc(701)"
   ]
  },
  {
   "cell_type": "code",
   "execution_count": 12,
   "metadata": {
    "ExecuteTime": {
     "end_time": "2020-07-08T12:35:01.671839Z",
     "start_time": "2020-07-08T12:34:53.408621Z"
    }
   },
   "outputs": [
    {
     "name": "stdout",
     "output_type": "stream",
     "text": [
      "The slowest run took 4.84 times longer than the fastest. This could mean that an intermediate result is being cached.\n",
      "826 ms ± 439 ms per loop (mean ± std. dev. of 7 runs, 1 loop each)\n"
     ]
    }
   ],
   "source": [
    "%timeit test_jit(701)"
   ]
  },
  {
   "cell_type": "markdown",
   "metadata": {},
   "source": [
    "## Choose Grid Size"
   ]
  },
  {
   "cell_type": "code",
   "execution_count": 34,
   "metadata": {
    "ExecuteTime": {
     "end_time": "2020-03-29T13:14:51.983668Z",
     "start_time": "2020-03-29T13:14:51.976654Z"
    }
   },
   "outputs": [],
   "source": [
    "grid_size = 5001"
   ]
  },
  {
   "cell_type": "markdown",
   "metadata": {},
   "source": [
    "## Calculation"
   ]
  },
  {
   "cell_type": "code",
   "execution_count": 35,
   "metadata": {
    "ExecuteTime": {
     "end_time": "2020-03-29T13:15:57.803435Z",
     "start_time": "2020-03-29T13:14:53.400657Z"
    }
   },
   "outputs": [],
   "source": [
    "array = test_jit(grid_size)"
   ]
  },
  {
   "cell_type": "markdown",
   "metadata": {},
   "source": [
    "## Visualization"
   ]
  },
  {
   "cell_type": "code",
   "execution_count": null,
   "metadata": {},
   "outputs": [],
   "source": [
    "color = 'binary_r' # Oranges, Blues, Greens, Reds, binary_r (black & white),"
   ]
  },
  {
   "cell_type": "code",
   "execution_count": 36,
   "metadata": {
    "ExecuteTime": {
     "end_time": "2020-03-29T13:16:56.596017Z",
     "start_time": "2020-03-29T13:15:57.816435Z"
    }
   },
   "outputs": [
    {
     "data": {
      "image/png": "[encoded data removed]",
      "text/plain": [
       "<Figure size 720x720 with 1 Axes>"
      ]
     },
     "metadata": {},
     "output_type": "display_data"
    }
   ],
   "source": [
    "fig, ax = plt.subplots(figsize=(10,10))\n",
    "ax = sns.heatmap(array, square=True, cmap=color, cbar=False, xticklabels=False, yticklabels=False, robust=False)"
   ]
  },
  {
   "cell_type": "markdown",
   "metadata": {},
   "source": [
    "## Export"
   ]
  },
  {
   "cell_type": "code",
   "execution_count": 37,
   "metadata": {
    "ExecuteTime": {
     "end_time": "2020-03-29T13:18:47.857258Z",
     "start_time": "2020-03-29T13:18:12.748822Z"
    }
   },
   "outputs": [],
   "source": [
    "timestamp = round(time.time())\n",
    "\n",
    "sns_plot = ax.get_figure()\n",
    "sns_plot.savefig(str(grid_size) +'x'+ str(grid_size) +'-'+str(timestamp) + \".png\", dpi=1200)"
   ]
  }
 ],
 "metadata": {
  "kernelspec": {
   "display_name": "Python 3",
   "language": "python",
   "name": "python3"
  },
  "language_info": {
   "codemirror_mode": {
    "name": "ipython",
    "version": 3
   },
   "file_extension": ".py",
   "mimetype": "text/x-python",
   "name": "python",
   "nbconvert_exporter": "python",
   "pygments_lexer": "ipython3",
   "version": "3.7.0"
  }
 },
 "nbformat": 4,
 "nbformat_minor": 2
}
